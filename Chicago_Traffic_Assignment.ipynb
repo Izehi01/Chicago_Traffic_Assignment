{
  "nbformat": 4,
  "nbformat_minor": 0,
  "metadata": {
    "colab": {
      "provenance": []
    },
    "kernelspec": {
      "name": "python3",
      "display_name": "Python 3"
    },
    "language_info": {
      "name": "python"
    }
  },
  "cells": [
    {
      "cell_type": "code",
      "source": [
        "import pandas as pd\n",
        "import numpy as np\n",
        "import matplotlib.pyplot as plt\n",
        "import seaborn as sns\n",
        "\n",
        "# Load dataset\n",
        "dataset_url = \"https://data.cityofchicago.org/resource/85ca-t3if.csv\"\n",
        "df = pd.read_csv(dataset_url)\n",
        "\n",
        "# Display basic info\n",
        "display(df.info())\n",
        "display(df.head())"
      ],
      "metadata": {
        "colab": {
          "base_uri": "https://localhost:8080/",
          "height": 1000
        },
        "id": "CGuPKNGPbzMh",
        "outputId": "fdd031d3-919e-41e5-e0ca-eeb6c59f51c0"
      },
      "execution_count": 15,
      "outputs": [
        {
          "output_type": "stream",
          "name": "stdout",
          "text": [
            "<class 'pandas.core.frame.DataFrame'>\n",
            "RangeIndex: 1000 entries, 0 to 999\n",
            "Data columns (total 48 columns):\n",
            " #   Column                         Non-Null Count  Dtype  \n",
            "---  ------                         --------------  -----  \n",
            " 0   crash_record_id                1000 non-null   object \n",
            " 1   crash_date_est_i               54 non-null     object \n",
            " 2   crash_date                     1000 non-null   object \n",
            " 3   posted_speed_limit             1000 non-null   int64  \n",
            " 4   traffic_control_device         1000 non-null   object \n",
            " 5   device_condition               1000 non-null   object \n",
            " 6   weather_condition              1000 non-null   object \n",
            " 7   lighting_condition             1000 non-null   object \n",
            " 8   first_crash_type               1000 non-null   object \n",
            " 9   trafficway_type                1000 non-null   object \n",
            " 10  lane_cnt                       0 non-null      float64\n",
            " 11  alignment                      1000 non-null   object \n",
            " 12  roadway_surface_cond           1000 non-null   object \n",
            " 13  road_defect                    1000 non-null   object \n",
            " 14  report_type                    975 non-null    object \n",
            " 15  crash_type                     1000 non-null   object \n",
            " 16  intersection_related_i         251 non-null    object \n",
            " 17  private_property_i             40 non-null     object \n",
            " 18  hit_and_run_i                  312 non-null    object \n",
            " 19  damage                         1000 non-null   object \n",
            " 20  date_police_notified           1000 non-null   object \n",
            " 21  prim_contributory_cause        1000 non-null   object \n",
            " 22  sec_contributory_cause         1000 non-null   object \n",
            " 23  street_no                      1000 non-null   int64  \n",
            " 24  street_direction               1000 non-null   object \n",
            " 25  street_name                    1000 non-null   object \n",
            " 26  beat_of_occurrence             1000 non-null   int64  \n",
            " 27  photos_taken_i                 17 non-null     object \n",
            " 28  statements_taken_i             27 non-null     object \n",
            " 29  dooring_i                      2 non-null      object \n",
            " 30  work_zone_i                    1 non-null      object \n",
            " 31  work_zone_type                 1 non-null      object \n",
            " 32  workers_present_i              0 non-null      float64\n",
            " 33  num_units                      1000 non-null   int64  \n",
            " 34  most_severe_injury             998 non-null    object \n",
            " 35  injuries_total                 998 non-null    float64\n",
            " 36  injuries_fatal                 998 non-null    float64\n",
            " 37  injuries_incapacitating        998 non-null    float64\n",
            " 38  injuries_non_incapacitating    998 non-null    float64\n",
            " 39  injuries_reported_not_evident  998 non-null    float64\n",
            " 40  injuries_no_indication         998 non-null    float64\n",
            " 41  injuries_unknown               998 non-null    float64\n",
            " 42  crash_hour                     1000 non-null   int64  \n",
            " 43  crash_day_of_week              1000 non-null   int64  \n",
            " 44  crash_month                    1000 non-null   int64  \n",
            " 45  latitude                       985 non-null    float64\n",
            " 46  longitude                      985 non-null    float64\n",
            " 47  location                       985 non-null    object \n",
            "dtypes: float64(11), int64(7), object(30)\n",
            "memory usage: 375.1+ KB\n"
          ]
        },
        {
          "output_type": "display_data",
          "data": {
            "text/plain": [
              "None"
            ]
          },
          "metadata": {}
        },
        {
          "output_type": "display_data",
          "data": {
            "text/plain": [
              "                                     crash_record_id crash_date_est_i  \\\n",
              "0  083249928d593064564f91cb965c207f10a8566542a711...              NaN   \n",
              "1  f9f88eeac47916b05ca28ae2eca6da82b2d4eb20317d6b...              NaN   \n",
              "2  5c5044d44742d849741c78c3873cca9f80398385640052...              NaN   \n",
              "3  391fe9556b014e9d2ec169e69dda2028927827aa291d5d...              NaN   \n",
              "4  6b6d844f108c9641715da81ec73514cf5b234f369ddd72...              NaN   \n",
              "\n",
              "                crash_date  posted_speed_limit traffic_control_device  \\\n",
              "0  2025-02-27T01:00:00.000                  30            NO CONTROLS   \n",
              "1  2025-02-27T00:27:00.000                  30                UNKNOWN   \n",
              "2  2025-02-26T21:39:00.000                  30            NO CONTROLS   \n",
              "3  2025-02-26T20:53:00.000                  45         TRAFFIC SIGNAL   \n",
              "4  2025-02-26T20:36:00.000                  30            NO CONTROLS   \n",
              "\n",
              "       device_condition weather_condition      lighting_condition  \\\n",
              "0           NO CONTROLS              RAIN                DARKNESS   \n",
              "1               UNKNOWN           UNKNOWN  DARKNESS, LIGHTED ROAD   \n",
              "2           NO CONTROLS             CLEAR                DARKNESS   \n",
              "3  FUNCTIONING PROPERLY             CLEAR  DARKNESS, LIGHTED ROAD   \n",
              "4           NO CONTROLS             CLEAR  DARKNESS, LIGHTED ROAD   \n",
              "\n",
              "               first_crash_type             trafficway_type  ...  \\\n",
              "0                      REAR END                 NOT DIVIDED  ...   \n",
              "1  SIDESWIPE OPPOSITE DIRECTION                 NOT DIVIDED  ...   \n",
              "2      SIDESWIPE SAME DIRECTION                 NOT DIVIDED  ...   \n",
              "3                  FIXED OBJECT  DIVIDED - W/MEDIAN BARRIER  ...   \n",
              "4                      REAR END                 NOT DIVIDED  ...   \n",
              "\n",
              "   injuries_non_incapacitating injuries_reported_not_evident  \\\n",
              "0                          0.0                           0.0   \n",
              "1                          1.0                           0.0   \n",
              "2                          0.0                           0.0   \n",
              "3                          1.0                           0.0   \n",
              "4                          1.0                           0.0   \n",
              "\n",
              "  injuries_no_indication injuries_unknown crash_hour crash_day_of_week  \\\n",
              "0                    3.0              0.0          1                 5   \n",
              "1                    1.0              0.0          0                 5   \n",
              "2                    2.0              0.0         21                 4   \n",
              "3                    1.0              0.0         20                 4   \n",
              "4                    1.0              0.0         20                 4   \n",
              "\n",
              "  crash_month   latitude  longitude                                  location  \n",
              "0           2  41.879976 -87.764712  POINT (-87.764712486675 41.879975622162)  \n",
              "1           2  41.659009 -87.617448  POINT (-87.617447906473 41.659009215787)  \n",
              "2           2  41.881321 -87.668542  POINT (-87.668542180871 41.881321121153)  \n",
              "3           2  41.873191 -87.617458  POINT (-87.617458140248 41.873190589037)  \n",
              "4           2  41.932300 -87.667915  POINT (-87.667915109974 41.932299516942)  \n",
              "\n",
              "[5 rows x 48 columns]"
            ],
            "text/html": [
              "\n",
              "  <div id=\"df-542a65a7-3961-43f0-8057-52ece818c8d6\" class=\"colab-df-container\">\n",
              "    <div>\n",
              "<style scoped>\n",
              "    .dataframe tbody tr th:only-of-type {\n",
              "        vertical-align: middle;\n",
              "    }\n",
              "\n",
              "    .dataframe tbody tr th {\n",
              "        vertical-align: top;\n",
              "    }\n",
              "\n",
              "    .dataframe thead th {\n",
              "        text-align: right;\n",
              "    }\n",
              "</style>\n",
              "<table border=\"1\" class=\"dataframe\">\n",
              "  <thead>\n",
              "    <tr style=\"text-align: right;\">\n",
              "      <th></th>\n",
              "      <th>crash_record_id</th>\n",
              "      <th>crash_date_est_i</th>\n",
              "      <th>crash_date</th>\n",
              "      <th>posted_speed_limit</th>\n",
              "      <th>traffic_control_device</th>\n",
              "      <th>device_condition</th>\n",
              "      <th>weather_condition</th>\n",
              "      <th>lighting_condition</th>\n",
              "      <th>first_crash_type</th>\n",
              "      <th>trafficway_type</th>\n",
              "      <th>...</th>\n",
              "      <th>injuries_non_incapacitating</th>\n",
              "      <th>injuries_reported_not_evident</th>\n",
              "      <th>injuries_no_indication</th>\n",
              "      <th>injuries_unknown</th>\n",
              "      <th>crash_hour</th>\n",
              "      <th>crash_day_of_week</th>\n",
              "      <th>crash_month</th>\n",
              "      <th>latitude</th>\n",
              "      <th>longitude</th>\n",
              "      <th>location</th>\n",
              "    </tr>\n",
              "  </thead>\n",
              "  <tbody>\n",
              "    <tr>\n",
              "      <th>0</th>\n",
              "      <td>083249928d593064564f91cb965c207f10a8566542a711...</td>\n",
              "      <td>NaN</td>\n",
              "      <td>2025-02-27T01:00:00.000</td>\n",
              "      <td>30</td>\n",
              "      <td>NO CONTROLS</td>\n",
              "      <td>NO CONTROLS</td>\n",
              "      <td>RAIN</td>\n",
              "      <td>DARKNESS</td>\n",
              "      <td>REAR END</td>\n",
              "      <td>NOT DIVIDED</td>\n",
              "      <td>...</td>\n",
              "      <td>0.0</td>\n",
              "      <td>0.0</td>\n",
              "      <td>3.0</td>\n",
              "      <td>0.0</td>\n",
              "      <td>1</td>\n",
              "      <td>5</td>\n",
              "      <td>2</td>\n",
              "      <td>41.879976</td>\n",
              "      <td>-87.764712</td>\n",
              "      <td>POINT (-87.764712486675 41.879975622162)</td>\n",
              "    </tr>\n",
              "    <tr>\n",
              "      <th>1</th>\n",
              "      <td>f9f88eeac47916b05ca28ae2eca6da82b2d4eb20317d6b...</td>\n",
              "      <td>NaN</td>\n",
              "      <td>2025-02-27T00:27:00.000</td>\n",
              "      <td>30</td>\n",
              "      <td>UNKNOWN</td>\n",
              "      <td>UNKNOWN</td>\n",
              "      <td>UNKNOWN</td>\n",
              "      <td>DARKNESS, LIGHTED ROAD</td>\n",
              "      <td>SIDESWIPE OPPOSITE DIRECTION</td>\n",
              "      <td>NOT DIVIDED</td>\n",
              "      <td>...</td>\n",
              "      <td>1.0</td>\n",
              "      <td>0.0</td>\n",
              "      <td>1.0</td>\n",
              "      <td>0.0</td>\n",
              "      <td>0</td>\n",
              "      <td>5</td>\n",
              "      <td>2</td>\n",
              "      <td>41.659009</td>\n",
              "      <td>-87.617448</td>\n",
              "      <td>POINT (-87.617447906473 41.659009215787)</td>\n",
              "    </tr>\n",
              "    <tr>\n",
              "      <th>2</th>\n",
              "      <td>5c5044d44742d849741c78c3873cca9f80398385640052...</td>\n",
              "      <td>NaN</td>\n",
              "      <td>2025-02-26T21:39:00.000</td>\n",
              "      <td>30</td>\n",
              "      <td>NO CONTROLS</td>\n",
              "      <td>NO CONTROLS</td>\n",
              "      <td>CLEAR</td>\n",
              "      <td>DARKNESS</td>\n",
              "      <td>SIDESWIPE SAME DIRECTION</td>\n",
              "      <td>NOT DIVIDED</td>\n",
              "      <td>...</td>\n",
              "      <td>0.0</td>\n",
              "      <td>0.0</td>\n",
              "      <td>2.0</td>\n",
              "      <td>0.0</td>\n",
              "      <td>21</td>\n",
              "      <td>4</td>\n",
              "      <td>2</td>\n",
              "      <td>41.881321</td>\n",
              "      <td>-87.668542</td>\n",
              "      <td>POINT (-87.668542180871 41.881321121153)</td>\n",
              "    </tr>\n",
              "    <tr>\n",
              "      <th>3</th>\n",
              "      <td>391fe9556b014e9d2ec169e69dda2028927827aa291d5d...</td>\n",
              "      <td>NaN</td>\n",
              "      <td>2025-02-26T20:53:00.000</td>\n",
              "      <td>45</td>\n",
              "      <td>TRAFFIC SIGNAL</td>\n",
              "      <td>FUNCTIONING PROPERLY</td>\n",
              "      <td>CLEAR</td>\n",
              "      <td>DARKNESS, LIGHTED ROAD</td>\n",
              "      <td>FIXED OBJECT</td>\n",
              "      <td>DIVIDED - W/MEDIAN BARRIER</td>\n",
              "      <td>...</td>\n",
              "      <td>1.0</td>\n",
              "      <td>0.0</td>\n",
              "      <td>1.0</td>\n",
              "      <td>0.0</td>\n",
              "      <td>20</td>\n",
              "      <td>4</td>\n",
              "      <td>2</td>\n",
              "      <td>41.873191</td>\n",
              "      <td>-87.617458</td>\n",
              "      <td>POINT (-87.617458140248 41.873190589037)</td>\n",
              "    </tr>\n",
              "    <tr>\n",
              "      <th>4</th>\n",
              "      <td>6b6d844f108c9641715da81ec73514cf5b234f369ddd72...</td>\n",
              "      <td>NaN</td>\n",
              "      <td>2025-02-26T20:36:00.000</td>\n",
              "      <td>30</td>\n",
              "      <td>NO CONTROLS</td>\n",
              "      <td>NO CONTROLS</td>\n",
              "      <td>CLEAR</td>\n",
              "      <td>DARKNESS, LIGHTED ROAD</td>\n",
              "      <td>REAR END</td>\n",
              "      <td>NOT DIVIDED</td>\n",
              "      <td>...</td>\n",
              "      <td>1.0</td>\n",
              "      <td>0.0</td>\n",
              "      <td>1.0</td>\n",
              "      <td>0.0</td>\n",
              "      <td>20</td>\n",
              "      <td>4</td>\n",
              "      <td>2</td>\n",
              "      <td>41.932300</td>\n",
              "      <td>-87.667915</td>\n",
              "      <td>POINT (-87.667915109974 41.932299516942)</td>\n",
              "    </tr>\n",
              "  </tbody>\n",
              "</table>\n",
              "<p>5 rows × 48 columns</p>\n",
              "</div>\n",
              "    <div class=\"colab-df-buttons\">\n",
              "\n",
              "  <div class=\"colab-df-container\">\n",
              "    <button class=\"colab-df-convert\" onclick=\"convertToInteractive('df-542a65a7-3961-43f0-8057-52ece818c8d6')\"\n",
              "            title=\"Convert this dataframe to an interactive table.\"\n",
              "            style=\"display:none;\">\n",
              "\n",
              "  <svg xmlns=\"http://www.w3.org/2000/svg\" height=\"24px\" viewBox=\"0 -960 960 960\">\n",
              "    <path d=\"M120-120v-720h720v720H120Zm60-500h600v-160H180v160Zm220 220h160v-160H400v160Zm0 220h160v-160H400v160ZM180-400h160v-160H180v160Zm440 0h160v-160H620v160ZM180-180h160v-160H180v160Zm440 0h160v-160H620v160Z\"/>\n",
              "  </svg>\n",
              "    </button>\n",
              "\n",
              "  <style>\n",
              "    .colab-df-container {\n",
              "      display:flex;\n",
              "      gap: 12px;\n",
              "    }\n",
              "\n",
              "    .colab-df-convert {\n",
              "      background-color: #E8F0FE;\n",
              "      border: none;\n",
              "      border-radius: 50%;\n",
              "      cursor: pointer;\n",
              "      display: none;\n",
              "      fill: #1967D2;\n",
              "      height: 32px;\n",
              "      padding: 0 0 0 0;\n",
              "      width: 32px;\n",
              "    }\n",
              "\n",
              "    .colab-df-convert:hover {\n",
              "      background-color: #E2EBFA;\n",
              "      box-shadow: 0px 1px 2px rgba(60, 64, 67, 0.3), 0px 1px 3px 1px rgba(60, 64, 67, 0.15);\n",
              "      fill: #174EA6;\n",
              "    }\n",
              "\n",
              "    .colab-df-buttons div {\n",
              "      margin-bottom: 4px;\n",
              "    }\n",
              "\n",
              "    [theme=dark] .colab-df-convert {\n",
              "      background-color: #3B4455;\n",
              "      fill: #D2E3FC;\n",
              "    }\n",
              "\n",
              "    [theme=dark] .colab-df-convert:hover {\n",
              "      background-color: #434B5C;\n",
              "      box-shadow: 0px 1px 3px 1px rgba(0, 0, 0, 0.15);\n",
              "      filter: drop-shadow(0px 1px 2px rgba(0, 0, 0, 0.3));\n",
              "      fill: #FFFFFF;\n",
              "    }\n",
              "  </style>\n",
              "\n",
              "    <script>\n",
              "      const buttonEl =\n",
              "        document.querySelector('#df-542a65a7-3961-43f0-8057-52ece818c8d6 button.colab-df-convert');\n",
              "      buttonEl.style.display =\n",
              "        google.colab.kernel.accessAllowed ? 'block' : 'none';\n",
              "\n",
              "      async function convertToInteractive(key) {\n",
              "        const element = document.querySelector('#df-542a65a7-3961-43f0-8057-52ece818c8d6');\n",
              "        const dataTable =\n",
              "          await google.colab.kernel.invokeFunction('convertToInteractive',\n",
              "                                                    [key], {});\n",
              "        if (!dataTable) return;\n",
              "\n",
              "        const docLinkHtml = 'Like what you see? Visit the ' +\n",
              "          '<a target=\"_blank\" href=https://colab.research.google.com/notebooks/data_table.ipynb>data table notebook</a>'\n",
              "          + ' to learn more about interactive tables.';\n",
              "        element.innerHTML = '';\n",
              "        dataTable['output_type'] = 'display_data';\n",
              "        await google.colab.output.renderOutput(dataTable, element);\n",
              "        const docLink = document.createElement('div');\n",
              "        docLink.innerHTML = docLinkHtml;\n",
              "        element.appendChild(docLink);\n",
              "      }\n",
              "    </script>\n",
              "  </div>\n",
              "\n",
              "\n",
              "<div id=\"df-59c7cdf6-e97b-477f-b00d-7aa5ec2d892a\">\n",
              "  <button class=\"colab-df-quickchart\" onclick=\"quickchart('df-59c7cdf6-e97b-477f-b00d-7aa5ec2d892a')\"\n",
              "            title=\"Suggest charts\"\n",
              "            style=\"display:none;\">\n",
              "\n",
              "<svg xmlns=\"http://www.w3.org/2000/svg\" height=\"24px\"viewBox=\"0 0 24 24\"\n",
              "     width=\"24px\">\n",
              "    <g>\n",
              "        <path d=\"M19 3H5c-1.1 0-2 .9-2 2v14c0 1.1.9 2 2 2h14c1.1 0 2-.9 2-2V5c0-1.1-.9-2-2-2zM9 17H7v-7h2v7zm4 0h-2V7h2v10zm4 0h-2v-4h2v4z\"/>\n",
              "    </g>\n",
              "</svg>\n",
              "  </button>\n",
              "\n",
              "<style>\n",
              "  .colab-df-quickchart {\n",
              "      --bg-color: #E8F0FE;\n",
              "      --fill-color: #1967D2;\n",
              "      --hover-bg-color: #E2EBFA;\n",
              "      --hover-fill-color: #174EA6;\n",
              "      --disabled-fill-color: #AAA;\n",
              "      --disabled-bg-color: #DDD;\n",
              "  }\n",
              "\n",
              "  [theme=dark] .colab-df-quickchart {\n",
              "      --bg-color: #3B4455;\n",
              "      --fill-color: #D2E3FC;\n",
              "      --hover-bg-color: #434B5C;\n",
              "      --hover-fill-color: #FFFFFF;\n",
              "      --disabled-bg-color: #3B4455;\n",
              "      --disabled-fill-color: #666;\n",
              "  }\n",
              "\n",
              "  .colab-df-quickchart {\n",
              "    background-color: var(--bg-color);\n",
              "    border: none;\n",
              "    border-radius: 50%;\n",
              "    cursor: pointer;\n",
              "    display: none;\n",
              "    fill: var(--fill-color);\n",
              "    height: 32px;\n",
              "    padding: 0;\n",
              "    width: 32px;\n",
              "  }\n",
              "\n",
              "  .colab-df-quickchart:hover {\n",
              "    background-color: var(--hover-bg-color);\n",
              "    box-shadow: 0 1px 2px rgba(60, 64, 67, 0.3), 0 1px 3px 1px rgba(60, 64, 67, 0.15);\n",
              "    fill: var(--button-hover-fill-color);\n",
              "  }\n",
              "\n",
              "  .colab-df-quickchart-complete:disabled,\n",
              "  .colab-df-quickchart-complete:disabled:hover {\n",
              "    background-color: var(--disabled-bg-color);\n",
              "    fill: var(--disabled-fill-color);\n",
              "    box-shadow: none;\n",
              "  }\n",
              "\n",
              "  .colab-df-spinner {\n",
              "    border: 2px solid var(--fill-color);\n",
              "    border-color: transparent;\n",
              "    border-bottom-color: var(--fill-color);\n",
              "    animation:\n",
              "      spin 1s steps(1) infinite;\n",
              "  }\n",
              "\n",
              "  @keyframes spin {\n",
              "    0% {\n",
              "      border-color: transparent;\n",
              "      border-bottom-color: var(--fill-color);\n",
              "      border-left-color: var(--fill-color);\n",
              "    }\n",
              "    20% {\n",
              "      border-color: transparent;\n",
              "      border-left-color: var(--fill-color);\n",
              "      border-top-color: var(--fill-color);\n",
              "    }\n",
              "    30% {\n",
              "      border-color: transparent;\n",
              "      border-left-color: var(--fill-color);\n",
              "      border-top-color: var(--fill-color);\n",
              "      border-right-color: var(--fill-color);\n",
              "    }\n",
              "    40% {\n",
              "      border-color: transparent;\n",
              "      border-right-color: var(--fill-color);\n",
              "      border-top-color: var(--fill-color);\n",
              "    }\n",
              "    60% {\n",
              "      border-color: transparent;\n",
              "      border-right-color: var(--fill-color);\n",
              "    }\n",
              "    80% {\n",
              "      border-color: transparent;\n",
              "      border-right-color: var(--fill-color);\n",
              "      border-bottom-color: var(--fill-color);\n",
              "    }\n",
              "    90% {\n",
              "      border-color: transparent;\n",
              "      border-bottom-color: var(--fill-color);\n",
              "    }\n",
              "  }\n",
              "</style>\n",
              "\n",
              "  <script>\n",
              "    async function quickchart(key) {\n",
              "      const quickchartButtonEl =\n",
              "        document.querySelector('#' + key + ' button');\n",
              "      quickchartButtonEl.disabled = true;  // To prevent multiple clicks.\n",
              "      quickchartButtonEl.classList.add('colab-df-spinner');\n",
              "      try {\n",
              "        const charts = await google.colab.kernel.invokeFunction(\n",
              "            'suggestCharts', [key], {});\n",
              "      } catch (error) {\n",
              "        console.error('Error during call to suggestCharts:', error);\n",
              "      }\n",
              "      quickchartButtonEl.classList.remove('colab-df-spinner');\n",
              "      quickchartButtonEl.classList.add('colab-df-quickchart-complete');\n",
              "    }\n",
              "    (() => {\n",
              "      let quickchartButtonEl =\n",
              "        document.querySelector('#df-59c7cdf6-e97b-477f-b00d-7aa5ec2d892a button');\n",
              "      quickchartButtonEl.style.display =\n",
              "        google.colab.kernel.accessAllowed ? 'block' : 'none';\n",
              "    })();\n",
              "  </script>\n",
              "</div>\n",
              "\n",
              "    </div>\n",
              "  </div>\n"
            ],
            "application/vnd.google.colaboratory.intrinsic+json": {
              "type": "dataframe"
            }
          },
          "metadata": {}
        }
      ]
    },
    {
      "cell_type": "code",
      "source": [
        "# Part 1: Data Cleaning\n",
        "## Handling missing values\n",
        "df.dropna(subset=['crash_date', 'latitude', 'longitude'], inplace=True)\n",
        "df.fillna({'injuries_fatal': 0, 'injuries_total': 0}, inplace=True)"
      ],
      "metadata": {
        "id": "KfZUg3Xcb_1X"
      },
      "execution_count": 7,
      "outputs": []
    },
    {
      "cell_type": "code",
      "source": [
        "\n",
        "## Remove duplicates\n",
        "df.drop_duplicates(inplace=True)\n",
        "\n",
        "## Standardizing column names\n",
        "df.columns = df.columns.str.lower().str.replace(\" \", \"_\")\n",
        "\n",
        "df['crash_date'] = pd.to_datetime(df['crash_date'])\n",
        "df['year'] = df['crash_date'].dt.year\n",
        "df['month'] = df['crash_date'].dt.month\n",
        "df['day_of_week'] = df['crash_date'].dt.day_name()\n",
        "\n",
        "df.to_csv(\"clean_chicago_traffic.csv\", index=False)"
      ],
      "metadata": {
        "id": "01QeqCvKcSZX"
      },
      "execution_count": 8,
      "outputs": []
    },
    {
      "cell_type": "code",
      "source": [
        "# Part 2: Exploratory Data Analysis (EDA)\n",
        "plt.figure(figsize=(12,6))\n",
        "sns.countplot(data=df, x='year', palette='viridis')\n",
        "plt.title('Number of Accidents Per Year')\n",
        "plt.xticks(rotation=45)\n",
        "plt.show()\n"
      ],
      "metadata": {
        "colab": {
          "base_uri": "https://localhost:8080/",
          "height": 690
        },
        "id": "oHLlX2GgcYfR",
        "outputId": "fedc0bf4-0226-4e8a-9fc8-28f0ce252d19"
      },
      "execution_count": 9,
      "outputs": [
        {
          "output_type": "stream",
          "name": "stderr",
          "text": [
            "<ipython-input-9-c34241f21319>:3: FutureWarning: \n",
            "\n",
            "Passing `palette` without assigning `hue` is deprecated and will be removed in v0.14.0. Assign the `x` variable to `hue` and set `legend=False` for the same effect.\n",
            "\n",
            "  sns.countplot(data=df, x='year', palette='viridis')\n"
          ]
        },
        {
          "output_type": "display_data",
          "data": {
            "text/plain": [
              "<Figure size 1200x600 with 1 Axes>"
            ],
            "image/png": "[encoded data removed]"
          },
          "metadata": {}
        }
      ]
    },
    {
      "cell_type": "code",
      "source": [
        "\n",
        "# Additional EDA Visualizations\n",
        "\n",
        "## Number of accidents per month\n",
        "plt.figure(figsize=(12,6))\n",
        "sns.countplot(data=df, x='month', palette='coolwarm')\n",
        "plt.title('Number of Accidents Per Month')\n",
        "plt.xticks(rotation=45)\n",
        "plt.show()"
      ],
      "metadata": {
        "colab": {
          "base_uri": "https://localhost:8080/",
          "height": 671
        },
        "id": "jkmDiYX2ceYJ",
        "outputId": "40705fc5-78df-4c11-d701-fee98a846939"
      },
      "execution_count": 10,
      "outputs": [
        {
          "output_type": "stream",
          "name": "stderr",
          "text": [
            "<ipython-input-10-423b8c8b1aee>:5: FutureWarning: \n",
            "\n",
            "Passing `palette` without assigning `hue` is deprecated and will be removed in v0.14.0. Assign the `x` variable to `hue` and set `legend=False` for the same effect.\n",
            "\n",
            "  sns.countplot(data=df, x='month', palette='coolwarm')\n"
          ]
        },
        {
          "output_type": "display_data",
          "data": {
            "text/plain": [
              "<Figure size 1200x600 with 1 Axes>"
            ],
            "image/png": "[encoded data removed]"
          },
          "metadata": {}
        }
      ]
    },
    {
      "cell_type": "code",
      "source": [
        "## Distribution of accidents by day of the week\n",
        "plt.figure(figsize=(12,6))\n",
        "sns.countplot(data=df, x='day_of_week', order=['Monday', 'Tuesday', 'Wednesday', 'Thursday', 'Friday', 'Saturday', 'Sunday'], palette='magma')\n",
        "plt.title('Accidents by Day of the Week')\n",
        "plt.show()"
      ],
      "metadata": {
        "colab": {
          "base_uri": "https://localhost:8080/",
          "height": 669
        },
        "id": "jsZNFf0hcnLs",
        "outputId": "2d536229-b287-42ae-f392-d68e5a55805f"
      },
      "execution_count": 11,
      "outputs": [
        {
          "output_type": "stream",
          "name": "stderr",
          "text": [
            "<ipython-input-11-c8d4e5f2dd1c>:3: FutureWarning: \n",
            "\n",
            "Passing `palette` without assigning `hue` is deprecated and will be removed in v0.14.0. Assign the `x` variable to `hue` and set `legend=False` for the same effect.\n",
            "\n",
            "  sns.countplot(data=df, x='day_of_week', order=['Monday', 'Tuesday', 'Wednesday', 'Thursday', 'Friday', 'Saturday', 'Sunday'], palette='magma')\n"
          ]
        },
        {
          "output_type": "display_data",
          "data": {
            "text/plain": [
              "<Figure size 1200x600 with 1 Axes>"
            ],
            "image/png": "[encoded data removed]"
          },
          "metadata": {}
        }
      ]
    },
    {
      "cell_type": "code",
      "source": [
        "## Correlation between weather conditions and collisions\n",
        "if 'weather_condition' in df.columns:\n",
        "    plt.figure(figsize=(12,6))\n",
        "    sns.countplot(data=df, y='weather_condition', order=df['weather_condition'].value_counts().index, palette='inferno')\n",
        "    plt.title('Collisions by Weather Condition')\n",
        "    plt.show()"
      ],
      "metadata": {
        "colab": {
          "base_uri": "https://localhost:8080/",
          "height": 669
        },
        "id": "gkrMYNRkcveT",
        "outputId": "04c3ee54-a17b-4304-c08e-0de3ea29fc23"
      },
      "execution_count": 12,
      "outputs": [
        {
          "output_type": "stream",
          "name": "stderr",
          "text": [
            "<ipython-input-12-6861c0c1c747>:4: FutureWarning: \n",
            "\n",
            "Passing `palette` without assigning `hue` is deprecated and will be removed in v0.14.0. Assign the `y` variable to `hue` and set `legend=False` for the same effect.\n",
            "\n",
            "  sns.countplot(data=df, y='weather_condition', order=df['weather_condition'].value_counts().index, palette='inferno')\n"
          ]
        },
        {
          "output_type": "display_data",
          "data": {
            "text/plain": [
              "<Figure size 1200x600 with 1 Axes>"
            ],
            "image/png": "[encoded data removed]"
          },
          "metadata": {}
        }
      ]
    },
    {
      "cell_type": "code",
      "source": [
        "## Impact of road conditions on collisions\n",
        "if 'roadway_surface_condition' in df.columns:\n",
        "    plt.figure(figsize=(12,6))\n",
        "    sns.countplot(data=df, y='roadway_surface_condition', order=df['roadway_surface_condition'].value_counts().index, palette='cividis')\n",
        "    plt.title('Collisions by Road Surface Condition')\n",
        "    plt.show()\n",
        "    ## Accidents by hour of the day\n",
        "if 'crash_hour' in df.columns:\n",
        "    plt.figure(figsize=(12,6))\n",
        "    sns.countplot(data=df, x='crash_hour', palette='plasma')\n",
        "    plt.title('Accidents by Hour of the Day')\n",
        "    plt.show()\n",
        "\n",
        "# Save final cleaned dataset\n",
        "df.to_csv(\"clean_chicago_traffic.csv\", index=False)"
      ],
      "metadata": {
        "colab": {
          "base_uri": "https://localhost:8080/",
          "height": 669
        },
        "id": "EYXMArpwcywW",
        "outputId": "ec18d01b-7c37-49a7-a405-1445b734865e"
      },
      "execution_count": 14,
      "outputs": [
        {
          "output_type": "stream",
          "name": "stderr",
          "text": [
            "<ipython-input-14-08576c96480a>:10: FutureWarning: \n",
            "\n",
            "Passing `palette` without assigning `hue` is deprecated and will be removed in v0.14.0. Assign the `x` variable to `hue` and set `legend=False` for the same effect.\n",
            "\n",
            "  sns.countplot(data=df, x='crash_hour', palette='plasma')\n"
          ]
        },
        {
          "output_type": "display_data",
          "data": {
            "text/plain": [
              "<Figure size 1200x600 with 1 Axes>"
            ],
            "image/png": "[encoded data removed]"
          },
          "metadata": {}
        }
      ]
    },
    {
      "cell_type": "code",
      "source": [
        "from google.colab import files\n",
        "files.download(\"clean_chicago_traffic.csv\")\n"
      ],
      "metadata": {
        "colab": {
          "base_uri": "https://localhost:8080/",
          "height": 17
        },
        "id": "PdCY0tgodufO",
        "outputId": "02bca911-dc7b-48ae-d49d-3f3f7b69fd2e"
      },
      "execution_count": 16,
      "outputs": [
        {
          "output_type": "display_data",
          "data": {
            "text/plain": [
              "<IPython.core.display.Javascript object>"
            ],
            "application/javascript": [
              "\n",
              "    async function download(id, filename, size) {\n",
              "      if (!google.colab.kernel.accessAllowed) {\n",
              "        return;\n",
              "      }\n",
              "      const div = document.createElement('div');\n",
              "      const label = document.createElement('label');\n",
              "      label.textContent = `Downloading \"${filename}\": `;\n",
              "      div.appendChild(label);\n",
              "      const progress = document.createElement('progress');\n",
              "      progress.max = size;\n",
              "      div.appendChild(progress);\n",
              "      document.body.appendChild(div);\n",
              "\n",
              "      const buffers = [];\n",
              "      let downloaded = 0;\n",
              "\n",
              "      const channel = await google.colab.kernel.comms.open(id);\n",
              "      // Send a message to notify the kernel that we're ready.\n",
              "      channel.send({})\n",
              "\n",
              "      for await (const message of channel.messages) {\n",
              "        // Send a message to notify the kernel that we're ready.\n",
              "        channel.send({})\n",
              "        if (message.buffers) {\n",
              "          for (const buffer of message.buffers) {\n",
              "            buffers.push(buffer);\n",
              "            downloaded += buffer.byteLength;\n",
              "            progress.value = downloaded;\n",
              "          }\n",
              "        }\n",
              "      }\n",
              "      const blob = new Blob(buffers, {type: 'application/binary'});\n",
              "      const a = document.createElement('a');\n",
              "      a.href = window.URL.createObjectURL(blob);\n",
              "      a.download = filename;\n",
              "      div.appendChild(a);\n",
              "      a.click();\n",
              "      div.remove();\n",
              "    }\n",
              "  "
            ]
          },
          "metadata": {}
        },
        {
          "output_type": "display_data",
          "data": {
            "text/plain": [
              "<IPython.core.display.Javascript object>"
            ],
            "application/javascript": [
              "download(\"download_c3f02ac0-fe84-4dd7-b443-68459108b823\", \"clean_chicago_traffic.csv\", 560885)"
            ]
          },
          "metadata": {}
        }
      ]
    }
  ]
}